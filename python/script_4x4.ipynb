{
 "cells": [
  {
   "cell_type": "markdown",
   "metadata": {},
   "source": [
    "# Set Up Matrix Input"
   ]
  },
  {
   "cell_type": "code",
   "execution_count": null,
   "metadata": {},
   "outputs": [],
   "source": [
    "import numpy as np\n",
    "import time\n",
    "\n",
    "# Row and Col size of matrix being bulitiplied\n",
    "row_size = 4\n",
    "col_size = 4\n",
    "row_block = 4\n",
    "\n",
    "# Generate random input matrix\n",
    "# A = np.random.rand(row_size,col_size)\n",
    "# B = np.random.rand(col_size,row_size)\n",
    "# A = np.full((row_size,col_size),1)\n",
    "# B = np.full((col_size,row_size),-1)\n",
    "# A = np.random.uniform(low=0.0625,high=1,size=(row_size,col_size))\n",
    "# B = np.random.uniform(low=0.0625,high=1,size=(col_size,row_size))\n",
    "\n",
    "pos_values = [2**(-i) for i in range(0,2)]\n",
    "neg_values = [-2**(-i) for i in range(0,2)]\n",
    "values = np.concatenate([neg_values,pos_values,[0]])\n",
    "print(values)\n",
    "A_val = np.random.choice(values,row_size*col_size)\n",
    "A = A_val.reshape(row_size,col_size)\n",
    "B_val = np.random.choice(values,row_size*col_size)\n",
    "B = B_val.reshape(col_size,row_size)\n",
    "\n",
    "# A = np.zeros((row_size,col_size))\n",
    "# A[::2, :] = 1\n",
    "# A[1::2,:] = -0.5\n",
    "# B = np.zeros((col_size,row_size))\n",
    "# B[::2, :] = -0.5\n",
    "# B[1::2,:] = 0.25\n",
    "\n",
    "py_out = np.zeros((row_size,row_size))\n",
    "py_out = np.matmul(A,B)\n",
    "\n",
    "# print(f\"{A}\\n{B}\\n{py_out}\")"
   ]
  },
  {
   "cell_type": "markdown",
   "metadata": {},
   "source": [
    "# Converters Float to Fixed Point and Vice Versa"
   ]
  },
  {
   "cell_type": "code",
   "execution_count": 2,
   "metadata": {},
   "outputs": [
    {
     "name": "stdout",
     "output_type": "stream",
     "text": [
      "4000 64.0\n"
     ]
    }
   ],
   "source": [
    "def float_to_fp(value, total_bits=16, frac_bits=8, output_format='hex'):\n",
    "    # Step 1: Check if the value is negative\n",
    "    if value < 0:\n",
    "        is_negative = True\n",
    "        value = -value  # Work with the positive equivalent for conversion\n",
    "    else:\n",
    "        is_negative = False\n",
    "\n",
    "    # Step 2: Multiply the float by 2^frac_bits to scale it\n",
    "    scaled_value = round(value * (2 ** frac_bits))\n",
    "    \n",
    "    # Step 3: Convert the scaled value to a binary string\n",
    "    # Format the binary string to the required total bits length\n",
    "    binary_value = bin(scaled_value)[2:].zfill(total_bits)\n",
    "\n",
    "    # Step 4: Handle the negative case\n",
    "    if is_negative:\n",
    "        # Perform two's complement conversion for negative numbers\n",
    "        # Subtract the binary value from the max value for two's complement\n",
    "        max_value = (1 << total_bits)  # This is 2^total_bits\n",
    "        binary_value = bin(max_value - scaled_value)[2:].zfill(total_bits)\n",
    "\n",
    "    # Step 5: Convert the binary value to hexadecimal\n",
    "    hex_value = hex(int(binary_value, 2))[2:].zfill(total_bits // 4)  # Convert to hex and remove '0x'\n",
    "\n",
    "    # Step 6: Format output based on the `output_format` argument\n",
    "    if output_format == 'binary':\n",
    "        return binary_value\n",
    "    elif output_format == 'hex':\n",
    "        return hex_value\n",
    "    elif output_format == 'both':\n",
    "        return (f\"{total_bits}'b{binary_value}\", f\"{total_bits}'h{hex_value}\")\n",
    "    else:\n",
    "        raise ValueError(\"Invalid output format. Choose 'binary', 'hex', or 'both'.\")\n",
    "    \n",
    "def fp_to_float(value,total_bits=16, frac_bits=8, input_format='hex'):\n",
    "    if input_format == 'binary': fp_val = int(value,2)\n",
    "    elif input_format == 'hex': fp_val = int(value,16)\n",
    "    else: raise ValueError(\"Invalid input format. Must be 'binary' or 'hex'\")\n",
    "    # Calculate the scaling factor: 2^frac_width\n",
    "    scaling_factor = 2 ** frac_bits\n",
    "    # Handle two's complement if the sign bit is set (for negative numbers)\n",
    "    sign_bit_mask = 1 << (total_bits - 1)  # Mask to isolate the sign bit\n",
    "    \n",
    "    # Check if the value is negative by examining the sign bit\n",
    "    if fp_val & sign_bit_mask:  # If sign bit is 1, it's negative\n",
    "        # Convert from two's complement\n",
    "        fp_val = fp_val - (1 << total_bits)  # Apply the two's complement adjustment\n",
    "    \n",
    "    # Convert to float by dividing by the scaling factor\n",
    "    float_value = fp_val / scaling_factor\n",
    "    \n",
    "    return float_value\n",
    "\n",
    "# Example usage:\n",
    "value = 64  # Example float number\n",
    "\n",
    "num1 = float_to_fp(value)\n",
    "inv_num1 = fp_to_float(str(num1))\n",
    "print(num1,inv_num1)"
   ]
  },
  {
   "cell_type": "markdown",
   "metadata": {},
   "source": [
    "# Create File for RTL Testing"
   ]
  },
  {
   "cell_type": "code",
   "execution_count": 28,
   "metadata": {},
   "outputs": [],
   "source": [
    "def wr_input(matrix,filename):\n",
    "    # Matrix formatting\n",
    "    new_row = row_block + 32//4 - 1 + row_block - 1 +1\n",
    "    new_col = row_block\n",
    "    sys_format = np.zeros((120,new_col))\n",
    "\n",
    "    for i in range(row_size):\n",
    "        for j in range(col_size):\n",
    "            sys_format[i+j,j] = matrix[i,j]\n",
    "    with open(filename, 'w') as f:\n",
    "        for row in sys_format:\n",
    "            data = [float_to_fp(i) for i in row]\n",
    "            f.write(''.join(data) + '\\n')\n",
    "    # f = open(filename,'w')\n",
    "    # f.close()\n",
    "    # print(f'Formatted Systolic matrix:\\n{sys_format}')\n",
    "\n",
    "# print(f\"Data North:\\n{B}\")\n",
    "# wr_input(B,\"..\\\\testing.txt\")"
   ]
  },
  {
   "cell_type": "code",
   "execution_count": 29,
   "metadata": {},
   "outputs": [
    {
     "name": "stdout",
     "output_type": "stream",
     "text": [
      "Data West:\n",
      "[[ 0.   1.   0.5  1. ]\n",
      " [ 0.   0.  -1.  -0.5]\n",
      " [ 0.   1.  -0.5 -1. ]\n",
      " [ 0.5  0.   0.  -0.5]]\n",
      "Data North:\n",
      "[[-1.  -0.5  1.   1. ]\n",
      " [-0.5  0.5 -1.   1. ]\n",
      " [ 1.   0.  -0.5  0.5]\n",
      " [ 1.  -1.  -0.5 -1. ]]\n",
      "['xxxx', 'xxxx', 'xxxx', 'xxxx']\n"
     ]
    },
    {
     "ename": "ValueError",
     "evalue": "invalid literal for int() with base 16: 'xxxx'",
     "output_type": "error",
     "traceback": [
      "\u001b[1;31m---------------------------------------------------------------------------\u001b[0m",
      "\u001b[1;31mValueError\u001b[0m                                Traceback (most recent call last)",
      "\u001b[1;32m~\\AppData\\Local\\Temp/ipykernel_26804/3124569644.py\u001b[0m in \u001b[0;36m<module>\u001b[1;34m\u001b[0m\n\u001b[0;32m     19\u001b[0m                 \u001b[0mtemp_data\u001b[0m \u001b[1;33m=\u001b[0m \u001b[1;33m[\u001b[0m\u001b[0mline\u001b[0m\u001b[1;33m[\u001b[0m\u001b[0mi\u001b[0m\u001b[1;33m:\u001b[0m\u001b[0mi\u001b[0m\u001b[1;33m+\u001b[0m\u001b[1;36m4\u001b[0m\u001b[1;33m]\u001b[0m\u001b[1;32mfor\u001b[0m \u001b[0mi\u001b[0m \u001b[1;32min\u001b[0m \u001b[0mrange\u001b[0m\u001b[1;33m(\u001b[0m\u001b[1;36m0\u001b[0m\u001b[1;33m,\u001b[0m \u001b[0mlen\u001b[0m\u001b[1;33m(\u001b[0m\u001b[0mline\u001b[0m\u001b[1;33m.\u001b[0m\u001b[0mstrip\u001b[0m\u001b[1;33m(\u001b[0m\u001b[1;33m)\u001b[0m\u001b[1;33m)\u001b[0m\u001b[1;33m,\u001b[0m \u001b[1;36m4\u001b[0m\u001b[1;33m)\u001b[0m\u001b[1;33m]\u001b[0m\u001b[1;33m\u001b[0m\u001b[1;33m\u001b[0m\u001b[0m\n\u001b[0;32m     20\u001b[0m                 \u001b[0mprint\u001b[0m\u001b[1;33m(\u001b[0m\u001b[0mtemp_data\u001b[0m\u001b[1;33m)\u001b[0m\u001b[1;33m\u001b[0m\u001b[1;33m\u001b[0m\u001b[0m\n\u001b[1;32m---> 21\u001b[1;33m                 \u001b[0mline_data\u001b[0m \u001b[1;33m=\u001b[0m \u001b[1;33m[\u001b[0m\u001b[0mfp_to_float\u001b[0m\u001b[1;33m(\u001b[0m\u001b[0mline\u001b[0m\u001b[1;33m[\u001b[0m\u001b[0mi\u001b[0m\u001b[1;33m:\u001b[0m\u001b[0mi\u001b[0m\u001b[1;33m+\u001b[0m\u001b[1;36m4\u001b[0m\u001b[1;33m]\u001b[0m\u001b[1;33m)\u001b[0m \u001b[1;32mfor\u001b[0m \u001b[0mi\u001b[0m \u001b[1;32min\u001b[0m \u001b[0mrange\u001b[0m\u001b[1;33m(\u001b[0m\u001b[1;36m0\u001b[0m\u001b[1;33m,\u001b[0m \u001b[0mlen\u001b[0m\u001b[1;33m(\u001b[0m\u001b[0mline\u001b[0m\u001b[1;33m.\u001b[0m\u001b[0mstrip\u001b[0m\u001b[1;33m(\u001b[0m\u001b[1;33m)\u001b[0m\u001b[1;33m)\u001b[0m\u001b[1;33m,\u001b[0m \u001b[1;36m4\u001b[0m\u001b[1;33m)\u001b[0m\u001b[1;33m]\u001b[0m\u001b[1;33m\u001b[0m\u001b[1;33m\u001b[0m\u001b[0m\n\u001b[0m\u001b[0;32m     22\u001b[0m                 \u001b[0mout_temp\u001b[0m\u001b[1;33m.\u001b[0m\u001b[0mappend\u001b[0m\u001b[1;33m(\u001b[0m\u001b[0mline_data\u001b[0m\u001b[1;33m)\u001b[0m\u001b[1;33m\u001b[0m\u001b[1;33m\u001b[0m\u001b[0m\n\u001b[0;32m     23\u001b[0m \u001b[1;33m\u001b[0m\u001b[0m\n",
      "\u001b[1;32m~\\AppData\\Local\\Temp/ipykernel_26804/3124569644.py\u001b[0m in \u001b[0;36m<listcomp>\u001b[1;34m(.0)\u001b[0m\n\u001b[0;32m     19\u001b[0m                 \u001b[0mtemp_data\u001b[0m \u001b[1;33m=\u001b[0m \u001b[1;33m[\u001b[0m\u001b[0mline\u001b[0m\u001b[1;33m[\u001b[0m\u001b[0mi\u001b[0m\u001b[1;33m:\u001b[0m\u001b[0mi\u001b[0m\u001b[1;33m+\u001b[0m\u001b[1;36m4\u001b[0m\u001b[1;33m]\u001b[0m\u001b[1;32mfor\u001b[0m \u001b[0mi\u001b[0m \u001b[1;32min\u001b[0m \u001b[0mrange\u001b[0m\u001b[1;33m(\u001b[0m\u001b[1;36m0\u001b[0m\u001b[1;33m,\u001b[0m \u001b[0mlen\u001b[0m\u001b[1;33m(\u001b[0m\u001b[0mline\u001b[0m\u001b[1;33m.\u001b[0m\u001b[0mstrip\u001b[0m\u001b[1;33m(\u001b[0m\u001b[1;33m)\u001b[0m\u001b[1;33m)\u001b[0m\u001b[1;33m,\u001b[0m \u001b[1;36m4\u001b[0m\u001b[1;33m)\u001b[0m\u001b[1;33m]\u001b[0m\u001b[1;33m\u001b[0m\u001b[1;33m\u001b[0m\u001b[0m\n\u001b[0;32m     20\u001b[0m                 \u001b[0mprint\u001b[0m\u001b[1;33m(\u001b[0m\u001b[0mtemp_data\u001b[0m\u001b[1;33m)\u001b[0m\u001b[1;33m\u001b[0m\u001b[1;33m\u001b[0m\u001b[0m\n\u001b[1;32m---> 21\u001b[1;33m                 \u001b[0mline_data\u001b[0m \u001b[1;33m=\u001b[0m \u001b[1;33m[\u001b[0m\u001b[0mfp_to_float\u001b[0m\u001b[1;33m(\u001b[0m\u001b[0mline\u001b[0m\u001b[1;33m[\u001b[0m\u001b[0mi\u001b[0m\u001b[1;33m:\u001b[0m\u001b[0mi\u001b[0m\u001b[1;33m+\u001b[0m\u001b[1;36m4\u001b[0m\u001b[1;33m]\u001b[0m\u001b[1;33m)\u001b[0m \u001b[1;32mfor\u001b[0m \u001b[0mi\u001b[0m \u001b[1;32min\u001b[0m \u001b[0mrange\u001b[0m\u001b[1;33m(\u001b[0m\u001b[1;36m0\u001b[0m\u001b[1;33m,\u001b[0m \u001b[0mlen\u001b[0m\u001b[1;33m(\u001b[0m\u001b[0mline\u001b[0m\u001b[1;33m.\u001b[0m\u001b[0mstrip\u001b[0m\u001b[1;33m(\u001b[0m\u001b[1;33m)\u001b[0m\u001b[1;33m)\u001b[0m\u001b[1;33m,\u001b[0m \u001b[1;36m4\u001b[0m\u001b[1;33m)\u001b[0m\u001b[1;33m]\u001b[0m\u001b[1;33m\u001b[0m\u001b[1;33m\u001b[0m\u001b[0m\n\u001b[0m\u001b[0;32m     22\u001b[0m                 \u001b[0mout_temp\u001b[0m\u001b[1;33m.\u001b[0m\u001b[0mappend\u001b[0m\u001b[1;33m(\u001b[0m\u001b[0mline_data\u001b[0m\u001b[1;33m)\u001b[0m\u001b[1;33m\u001b[0m\u001b[1;33m\u001b[0m\u001b[0m\n\u001b[0;32m     23\u001b[0m \u001b[1;33m\u001b[0m\u001b[0m\n",
      "\u001b[1;32m~\\AppData\\Local\\Temp/ipykernel_26804/88560077.py\u001b[0m in \u001b[0;36mfp_to_float\u001b[1;34m(value, total_bits, frac_bits, input_format)\u001b[0m\n\u001b[0;32m     36\u001b[0m \u001b[1;32mdef\u001b[0m \u001b[0mfp_to_float\u001b[0m\u001b[1;33m(\u001b[0m\u001b[0mvalue\u001b[0m\u001b[1;33m,\u001b[0m\u001b[0mtotal_bits\u001b[0m\u001b[1;33m=\u001b[0m\u001b[1;36m16\u001b[0m\u001b[1;33m,\u001b[0m \u001b[0mfrac_bits\u001b[0m\u001b[1;33m=\u001b[0m\u001b[1;36m8\u001b[0m\u001b[1;33m,\u001b[0m \u001b[0minput_format\u001b[0m\u001b[1;33m=\u001b[0m\u001b[1;34m'hex'\u001b[0m\u001b[1;33m)\u001b[0m\u001b[1;33m:\u001b[0m\u001b[1;33m\u001b[0m\u001b[1;33m\u001b[0m\u001b[0m\n\u001b[0;32m     37\u001b[0m     \u001b[1;32mif\u001b[0m \u001b[0minput_format\u001b[0m \u001b[1;33m==\u001b[0m \u001b[1;34m'binary'\u001b[0m\u001b[1;33m:\u001b[0m \u001b[0mfp_val\u001b[0m \u001b[1;33m=\u001b[0m \u001b[0mint\u001b[0m\u001b[1;33m(\u001b[0m\u001b[0mvalue\u001b[0m\u001b[1;33m,\u001b[0m\u001b[1;36m2\u001b[0m\u001b[1;33m)\u001b[0m\u001b[1;33m\u001b[0m\u001b[1;33m\u001b[0m\u001b[0m\n\u001b[1;32m---> 38\u001b[1;33m     \u001b[1;32melif\u001b[0m \u001b[0minput_format\u001b[0m \u001b[1;33m==\u001b[0m \u001b[1;34m'hex'\u001b[0m\u001b[1;33m:\u001b[0m \u001b[0mfp_val\u001b[0m \u001b[1;33m=\u001b[0m \u001b[0mint\u001b[0m\u001b[1;33m(\u001b[0m\u001b[0mvalue\u001b[0m\u001b[1;33m,\u001b[0m\u001b[1;36m16\u001b[0m\u001b[1;33m)\u001b[0m\u001b[1;33m\u001b[0m\u001b[1;33m\u001b[0m\u001b[0m\n\u001b[0m\u001b[0;32m     39\u001b[0m     \u001b[1;32melse\u001b[0m\u001b[1;33m:\u001b[0m \u001b[1;32mraise\u001b[0m \u001b[0mValueError\u001b[0m\u001b[1;33m(\u001b[0m\u001b[1;34m\"Invalid input format. Must be 'binary' or 'hex'\"\u001b[0m\u001b[1;33m)\u001b[0m\u001b[1;33m\u001b[0m\u001b[1;33m\u001b[0m\u001b[0m\n\u001b[0;32m     40\u001b[0m     \u001b[1;31m# Calculate the scaling factor: 2^frac_width\u001b[0m\u001b[1;33m\u001b[0m\u001b[1;33m\u001b[0m\u001b[0m\n",
      "\u001b[1;31mValueError\u001b[0m: invalid literal for int() with base 16: 'xxxx'"
     ]
    }
   ],
   "source": [
    "import os\n",
    "\n",
    "# Create blocks from the big matrix\n",
    "rtl_out = np.zeros((row_size,row_size))\n",
    "\n",
    "for i in range(row_size//4):\n",
    "    for j in range(row_size//4):\n",
    "        print(f\"Data West:\\n{A}\")\n",
    "        wr_input(A.transpose(),\"..\\\\data_west.txt\")\n",
    "        print(f\"Data North:\\n{B}\")\n",
    "        wr_input(B,\"..\\\\data_north.txt\")\n",
    "        command = f'cd .. & iverilog.exe -c .\\\\block_4x32.txt & vvp .\\\\a.out'\n",
    "        os.system(command)\n",
    "\n",
    "        out_temp = []\n",
    "        with open('..\\\\out_val.txt', 'r') as f:\n",
    "            # Iterate through each line in the file\n",
    "            for line in f:\n",
    "                temp_data = [line[i:i+4]for i in range(0, len(line.strip()), 4)]\n",
    "                print(temp_data)\n",
    "                line_data = [fp_to_float(line[i:i+4]) for i in range(0, len(line.strip()), 4)]\n",
    "                out_temp.append(line_data)\n",
    "\n",
    "        # out_temp = np.array(out_temp)\n",
    "        # print(out_temp)\n",
    "        print(i,j)\n",
    "        rtl_out[4*i:4*(i+1),4*j:4*(j+1)] = out_temp\n",
    "        err = py_out - rtl_out\n",
    "        # print(err)\n",
    "\n",
    "\n",
    "print(f\"Python:\\n{py_out}\\nRTL:\\n{rtl_out}\\nError:\\n{err}\")\n",
    "# print(err)\n",
    "print(f'Maximum absolute error: {np.max(np.abs(err))}')"
   ]
  },
  {
   "cell_type": "code",
   "execution_count": 5,
   "metadata": {},
   "outputs": [
    {
     "name": "stdout",
     "output_type": "stream",
     "text": [
      "[[ 0.   1.   0.5  1. ]\n",
      " [ 0.   0.  -1.  -0.5]\n",
      " [ 0.   1.  -0.5 -1. ]\n",
      " [ 0.5  0.   0.  -0.5]]\n",
      "[[-1.  -0.5  1.   1. ]\n",
      " [-0.5  0.5 -1.   1. ]\n",
      " [ 1.   0.  -0.5  0.5]\n",
      " [ 1.  -1.  -0.5 -1. ]]\n"
     ]
    }
   ],
   "source": []
  }
 ],
 "metadata": {
  "kernelspec": {
   "display_name": "Python 3",
   "language": "python",
   "name": "python3"
  },
  "language_info": {
   "codemirror_mode": {
    "name": "ipython",
    "version": 3
   },
   "file_extension": ".py",
   "mimetype": "text/x-python",
   "name": "python",
   "nbconvert_exporter": "python",
   "pygments_lexer": "ipython3",
   "version": "3.10.0"
  }
 },
 "nbformat": 4,
 "nbformat_minor": 2
}
